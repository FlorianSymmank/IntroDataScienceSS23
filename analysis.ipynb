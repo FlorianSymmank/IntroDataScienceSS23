{
 "cells": [
  {
   "attachments": {},
   "cell_type": "markdown",
   "metadata": {},
   "source": [
    "# R Stuff and funtions to start up\n"
   ]
  },
  {
   "cell_type": "code",
   "execution_count": 21,
   "metadata": {
    "vscode": {
     "languageId": "r"
    }
   },
   "outputs": [
    {
     "name": "stderr",
     "output_type": "stream",
     "text": [
      "Warning message:\n",
      "\"Paket 'sf' wird gerade benutzt und deshab nicht installiert\"\n",
      "Warning message:\n",
      "\"Paket 'rnaturalearth' wird gerade benutzt und deshab nicht installiert\"\n",
      "Warning message:\n",
      "\"Paket 'rnaturalearthdata' wird gerade benutzt und deshab nicht installiert\"\n"
     ]
    }
   ],
   "source": [
    "# install.packages(\"reticulate\")\n",
    "# library(reticulate)\n",
    "# use_condaenv(\"DataScience\")\n",
    "\n",
    "install.packages(\"sf\", type = \"binary\")\n",
    "install.packages(\"rnaturalearth\", type = \"binary\")\n",
    "install.packages(\"rnaturalearthdata\", type = \"binary\")\n",
    "\n",
    "library(tidyverse)\n",
    "library(sf)\n",
    "library(rnaturalearth)\n",
    "library(rnaturalearthdata)\n",
    "\n",
    "library(dplyr)\n",
    "library(ggplot2)"
   ]
  },
  {
   "attachments": {},
   "cell_type": "markdown",
   "metadata": {},
   "source": [
    "# Funktionen für die Analyse"
   ]
  },
  {
   "cell_type": "code",
   "execution_count": 22,
   "metadata": {
    "vscode": {
     "languageId": "r"
    }
   },
   "outputs": [],
   "source": [
    "printf <- function(...) cat(sprintf(...))\n",
    "\n",
    "Mode <- function(x) {\n",
    "  ux <- unique(x)\n",
    "  tab <- tabulate(match(x, ux))\n",
    "  ux[tab == max(tab)]\n",
    "}\n",
    "\n",
    "Haeufigkeit <- function(df, feature) {\n",
    "  haeufigkeit <- df %>%\n",
    "    group_by({{ feature }}) %>%\n",
    "    summarise(absolute = n(), relative = round(n() / nrow(df), 2), prozentual = round(relative * 100))\n",
    "\n",
    "  haeufigkeit <- arrange(haeufigkeit, desc(absolute))\n",
    "}\n",
    "\n",
    "Gini_Simpson <- function(data) {\n",
    "  sum(data * (1 - data))\n",
    "}"
   ]
  },
  {
   "attachments": {},
   "cell_type": "markdown",
   "metadata": {},
   "source": [
    "# Daten laden\n"
   ]
  },
  {
   "cell_type": "code",
   "execution_count": 23,
   "metadata": {
    "vscode": {
     "languageId": "r"
    }
   },
   "outputs": [
    {
     "data": {
      "text/html": [
       "<table class=\"dataframe\">\n",
       "<caption>A data.frame: 4766 × 13</caption>\n",
       "<thead>\n",
       "\t<tr><th scope=col>work_year</th><th scope=col>experience_level</th><th scope=col>employment_type</th><th scope=col>job_title</th><th scope=col>salary</th><th scope=col>salary_currency</th><th scope=col>salary_in_usd</th><th scope=col>employee_residence</th><th scope=col>remote_ratio</th><th scope=col>company_location</th><th scope=col>company_size</th><th scope=col>employee_residence_country_name</th><th scope=col>company_location_country_name</th></tr>\n",
       "\t<tr><th scope=col>&lt;int&gt;</th><th scope=col>&lt;chr&gt;</th><th scope=col>&lt;chr&gt;</th><th scope=col>&lt;chr&gt;</th><th scope=col>&lt;int&gt;</th><th scope=col>&lt;chr&gt;</th><th scope=col>&lt;int&gt;</th><th scope=col>&lt;chr&gt;</th><th scope=col>&lt;int&gt;</th><th scope=col>&lt;chr&gt;</th><th scope=col>&lt;chr&gt;</th><th scope=col>&lt;chr&gt;</th><th scope=col>&lt;chr&gt;</th></tr>\n",
       "</thead>\n",
       "<tbody>\n",
       "\t<tr><td>2023</td><td>SE</td><td>FT</td><td>Software Data Engineer            </td><td>210000</td><td>USD</td><td>210000</td><td>US</td><td>100</td><td>US</td><td>L</td><td>United States</td><td>United States</td></tr>\n",
       "\t<tr><td>2023</td><td>MI</td><td>FT</td><td>Machine Learning Research Engineer</td><td> 90000</td><td>USD</td><td> 90000</td><td>SA</td><td>100</td><td>SA</td><td>M</td><td>Saudi Arabia </td><td>Saudi Arabia </td></tr>\n",
       "\t<tr><td>2023</td><td>MI</td><td>FT</td><td>Data Analyst                      </td><td> 55000</td><td>EUR</td><td> 59401</td><td>DE</td><td> 50</td><td>DE</td><td>L</td><td>Germany      </td><td>Germany      </td></tr>\n",
       "\t<tr><td>2023</td><td>SE</td><td>FT</td><td>Analytics Engineer                </td><td> 90000</td><td>USD</td><td> 90000</td><td>US</td><td>  0</td><td>US</td><td>M</td><td>United States</td><td>United States</td></tr>\n",
       "\t<tr><td>2023</td><td>SE</td><td>FT</td><td>Analytics Engineer                </td><td> 84000</td><td>USD</td><td> 84000</td><td>US</td><td>  0</td><td>US</td><td>M</td><td>United States</td><td>United States</td></tr>\n",
       "\t<tr><td>2023</td><td>SE</td><td>FT</td><td>Data Analyst                      </td><td>160000</td><td>USD</td><td>160000</td><td>US</td><td>100</td><td>US</td><td>M</td><td>United States</td><td>United States</td></tr>\n",
       "\t<tr><td>2023</td><td>SE</td><td>FT</td><td>Data Analyst                      </td><td>140000</td><td>USD</td><td>140000</td><td>US</td><td>100</td><td>US</td><td>M</td><td>United States</td><td>United States</td></tr>\n",
       "\t<tr><td>2023</td><td>SE</td><td>FT</td><td>Analytics Engineer                </td><td>221300</td><td>USD</td><td>221300</td><td>US</td><td>  0</td><td>US</td><td>M</td><td>United States</td><td>United States</td></tr>\n",
       "\t<tr><td>2023</td><td>SE</td><td>FT</td><td>Analytics Engineer                </td><td>147500</td><td>USD</td><td>147500</td><td>US</td><td>  0</td><td>US</td><td>M</td><td>United States</td><td>United States</td></tr>\n",
       "\t<tr><td>2023</td><td>EX</td><td>FT</td><td>Data Engineer                     </td><td>204500</td><td>USD</td><td>204500</td><td>US</td><td>  0</td><td>US</td><td>M</td><td>United States</td><td>United States</td></tr>\n",
       "\t<tr><td>2023</td><td>EX</td><td>FT</td><td>Data Engineer                     </td><td>130000</td><td>USD</td><td>130000</td><td>US</td><td>  0</td><td>US</td><td>M</td><td>United States</td><td>United States</td></tr>\n",
       "\t<tr><td>2023</td><td>SE</td><td>FT</td><td>Machine Learning Engineer         </td><td>210000</td><td>USD</td><td>210000</td><td>US</td><td>100</td><td>US</td><td>M</td><td>United States</td><td>United States</td></tr>\n",
       "\t<tr><td>2023</td><td>SE</td><td>FT</td><td>Machine Learning Engineer         </td><td>160000</td><td>USD</td><td>160000</td><td>US</td><td>100</td><td>US</td><td>M</td><td>United States</td><td>United States</td></tr>\n",
       "\t<tr><td>2023</td><td>SE</td><td>FT</td><td>Machine Learning Engineer         </td><td>204500</td><td>USD</td><td>204500</td><td>US</td><td>  0</td><td>US</td><td>M</td><td>United States</td><td>United States</td></tr>\n",
       "\t<tr><td>2023</td><td>SE</td><td>FT</td><td>Machine Learning Engineer         </td><td>142200</td><td>USD</td><td>142200</td><td>US</td><td>  0</td><td>US</td><td>M</td><td>United States</td><td>United States</td></tr>\n",
       "\t<tr><td>2023</td><td>SE</td><td>FT</td><td>Data Analyst                      </td><td>186600</td><td>USD</td><td>186600</td><td>US</td><td>100</td><td>US</td><td>M</td><td>United States</td><td>United States</td></tr>\n",
       "\t<tr><td>2023</td><td>SE</td><td>FT</td><td>Data Analyst                      </td><td>119800</td><td>USD</td><td>119800</td><td>US</td><td>100</td><td>US</td><td>M</td><td>United States</td><td>United States</td></tr>\n",
       "\t<tr><td>2023</td><td>SE</td><td>FT</td><td>Analytics Engineer                </td><td>192000</td><td>USD</td><td>192000</td><td>US</td><td>100</td><td>US</td><td>M</td><td>United States</td><td>United States</td></tr>\n",
       "\t<tr><td>2023</td><td>SE</td><td>FT</td><td>Analytics Engineer                </td><td>151000</td><td>USD</td><td>151000</td><td>US</td><td>100</td><td>US</td><td>M</td><td>United States</td><td>United States</td></tr>\n",
       "\t<tr><td>2023</td><td>SE</td><td>FT</td><td>Business Intelligence Engineer    </td><td>185000</td><td>USD</td><td>185000</td><td>US</td><td>  0</td><td>US</td><td>L</td><td>United States</td><td>United States</td></tr>\n",
       "\t<tr><td>2023</td><td>SE</td><td>FT</td><td>Business Intelligence Engineer    </td><td> 79600</td><td>USD</td><td> 79600</td><td>US</td><td>  0</td><td>US</td><td>L</td><td>United States</td><td>United States</td></tr>\n",
       "\t<tr><td>2023</td><td>SE</td><td>FT</td><td>Data Scientist                    </td><td>169000</td><td>USD</td><td>169000</td><td>US</td><td>  0</td><td>US</td><td>M</td><td>United States</td><td>United States</td></tr>\n",
       "\t<tr><td>2023</td><td>SE</td><td>FT</td><td>Data Scientist                    </td><td>129300</td><td>USD</td><td>129300</td><td>US</td><td>  0</td><td>US</td><td>M</td><td>United States</td><td>United States</td></tr>\n",
       "\t<tr><td>2023</td><td>SE</td><td>FT</td><td>Data Engineer                     </td><td>204500</td><td>USD</td><td>204500</td><td>US</td><td>  0</td><td>US</td><td>M</td><td>United States</td><td>United States</td></tr>\n",
       "\t<tr><td>2023</td><td>SE</td><td>FT</td><td>Data Engineer                     </td><td>142200</td><td>USD</td><td>142200</td><td>US</td><td>  0</td><td>US</td><td>M</td><td>United States</td><td>United States</td></tr>\n",
       "\t<tr><td>2023</td><td>SE</td><td>FT</td><td>Data Engineer                     </td><td>250000</td><td>USD</td><td>250000</td><td>US</td><td>  0</td><td>US</td><td>M</td><td>United States</td><td>United States</td></tr>\n",
       "\t<tr><td>2023</td><td>SE</td><td>FT</td><td>Data Engineer                     </td><td>130000</td><td>USD</td><td>130000</td><td>US</td><td>  0</td><td>US</td><td>M</td><td>United States</td><td>United States</td></tr>\n",
       "\t<tr><td>2023</td><td>SE</td><td>FT</td><td>Business Intelligence Engineer    </td><td>210000</td><td>USD</td><td>210000</td><td>US</td><td>  0</td><td>US</td><td>M</td><td>United States</td><td>United States</td></tr>\n",
       "\t<tr><td>2023</td><td>SE</td><td>FT</td><td>Business Intelligence Engineer    </td><td>170000</td><td>USD</td><td>170000</td><td>US</td><td>  0</td><td>US</td><td>M</td><td>United States</td><td>United States</td></tr>\n",
       "\t<tr><td>2023</td><td>SE</td><td>FT</td><td>Analytics Engineer                </td><td>221300</td><td>USD</td><td>221300</td><td>US</td><td>  0</td><td>US</td><td>M</td><td>United States</td><td>United States</td></tr>\n",
       "\t<tr><td>...</td><td>...</td><td>...</td><td>...</td><td>...</td><td>...</td><td>...</td><td>...</td><td>...</td><td>...</td><td>...</td><td>...</td><td>...</td></tr>\n",
       "\t<tr><td>2021</td><td>EN</td><td>FT</td><td>Business Data Analyst             </td><td>  50000</td><td>EUR</td><td> 59102</td><td>LU</td><td>100</td><td>LU</td><td>L</td><td>Luxembourg   </td><td>Luxembourg    </td></tr>\n",
       "\t<tr><td>2021</td><td>SE</td><td>FT</td><td>Principal Data Scientist          </td><td> 147000</td><td>EUR</td><td>173762</td><td>DE</td><td>100</td><td>DE</td><td>M</td><td>Germany      </td><td>Germany       </td></tr>\n",
       "\t<tr><td>2020</td><td>SE</td><td>FT</td><td>Principal Data Scientist          </td><td> 130000</td><td>EUR</td><td>148261</td><td>DE</td><td>100</td><td>DE</td><td>M</td><td>Germany      </td><td>Germany       </td></tr>\n",
       "\t<tr><td>2020</td><td>MI</td><td>FT</td><td>Data Scientist                    </td><td>  34000</td><td>EUR</td><td> 38776</td><td>ES</td><td>100</td><td>ES</td><td>M</td><td>Spain        </td><td>Spain         </td></tr>\n",
       "\t<tr><td>2021</td><td>MI</td><td>FT</td><td>Data Scientist                    </td><td>  39600</td><td>EUR</td><td> 46809</td><td>ES</td><td>100</td><td>ES</td><td>M</td><td>Spain        </td><td>Spain         </td></tr>\n",
       "\t<tr><td>2021</td><td>EN</td><td>FT</td><td>AI Scientist                      </td><td>1335000</td><td>INR</td><td> 18053</td><td>IN</td><td>100</td><td>AS</td><td>S</td><td>India        </td><td>American Samoa</td></tr>\n",
       "\t<tr><td>2020</td><td>SE</td><td>FT</td><td>Data Scientist                    </td><td>  80000</td><td>EUR</td><td> 91237</td><td>AT</td><td>  0</td><td>AT</td><td>S</td><td>Austria      </td><td>Austria       </td></tr>\n",
       "\t<tr><td>2020</td><td>MI</td><td>FT</td><td>Data Scientist                    </td><td>  55000</td><td>EUR</td><td> 62726</td><td>FR</td><td> 50</td><td>LU</td><td>S</td><td>France       </td><td>Luxembourg    </td></tr>\n",
       "\t<tr><td>2021</td><td>MI</td><td>FT</td><td>Data Scientist                    </td><td> 115000</td><td>USD</td><td>115000</td><td>US</td><td> 50</td><td>US</td><td>L</td><td>United States</td><td>United States </td></tr>\n",
       "\t<tr><td>2021</td><td>SE</td><td>FT</td><td>Principal Data Scientist          </td><td> 235000</td><td>USD</td><td>235000</td><td>US</td><td>100</td><td>US</td><td>L</td><td>United States</td><td>United States </td></tr>\n",
       "\t<tr><td>2021</td><td>MI</td><td>FT</td><td>Lead Data Analyst                 </td><td>1450000</td><td>INR</td><td> 19609</td><td>IN</td><td>100</td><td>IN</td><td>L</td><td>India        </td><td>India         </td></tr>\n",
       "\t<tr><td>2021</td><td>MI</td><td>FT</td><td>Data Analyst                      </td><td>  75000</td><td>USD</td><td> 75000</td><td>US</td><td>  0</td><td>US</td><td>L</td><td>United States</td><td>United States </td></tr>\n",
       "\t<tr><td>2021</td><td>MI</td><td>FT</td><td>Data Analyst                      </td><td>  62000</td><td>USD</td><td> 62000</td><td>US</td><td>  0</td><td>US</td><td>L</td><td>United States</td><td>United States </td></tr>\n",
       "\t<tr><td>2021</td><td>MI</td><td>FT</td><td>Data Scientist                    </td><td>  73000</td><td>USD</td><td> 73000</td><td>US</td><td>  0</td><td>US</td><td>L</td><td>United States</td><td>United States </td></tr>\n",
       "\t<tr><td>2021</td><td>MI</td><td>FT</td><td>Data Engineer                     </td><td>  38400</td><td>EUR</td><td> 45391</td><td>NL</td><td>100</td><td>NL</td><td>L</td><td>Netherlands  </td><td>Netherlands   </td></tr>\n",
       "\t<tr><td>2020</td><td>SE</td><td>FT</td><td>Data Science Manager              </td><td> 190200</td><td>USD</td><td>190200</td><td>US</td><td>100</td><td>US</td><td>M</td><td>United States</td><td>United States </td></tr>\n",
       "\t<tr><td>2020</td><td>MI</td><td>FT</td><td>Data Scientist                    </td><td> 118000</td><td>USD</td><td>118000</td><td>US</td><td>100</td><td>US</td><td>M</td><td>United States</td><td>United States </td></tr>\n",
       "\t<tr><td>2020</td><td>MI</td><td>FT</td><td>Data Scientist                    </td><td> 138350</td><td>USD</td><td>138350</td><td>US</td><td>100</td><td>US</td><td>M</td><td>United States</td><td>United States </td></tr>\n",
       "\t<tr><td>2020</td><td>MI</td><td>FT</td><td>Data Engineer                     </td><td> 130800</td><td>USD</td><td>130800</td><td>ES</td><td>100</td><td>US</td><td>M</td><td>Spain        </td><td>United States </td></tr>\n",
       "\t<tr><td>2020</td><td>SE</td><td>FT</td><td>Machine Learning Engineer         </td><td>  40000</td><td>EUR</td><td> 45618</td><td>HR</td><td>100</td><td>HR</td><td>S</td><td>Croatia      </td><td>Croatia       </td></tr>\n",
       "\t<tr><td>2021</td><td>SE</td><td>FT</td><td>Director of Data Science          </td><td> 168000</td><td>USD</td><td>168000</td><td>JP</td><td>  0</td><td>JP</td><td>S</td><td>Japan        </td><td>Japan         </td></tr>\n",
       "\t<tr><td>2021</td><td>MI</td><td>FT</td><td>Data Scientist                    </td><td> 160000</td><td>SGD</td><td>119059</td><td>SG</td><td>100</td><td>IL</td><td>M</td><td>Singapore    </td><td>Israel        </td></tr>\n",
       "\t<tr><td>2021</td><td>MI</td><td>FT</td><td>Applied Machine Learning Scientist</td><td> 423000</td><td>USD</td><td>423000</td><td>US</td><td> 50</td><td>US</td><td>L</td><td>United States</td><td>United States </td></tr>\n",
       "\t<tr><td>2021</td><td>MI</td><td>FT</td><td>Data Engineer                     </td><td>  24000</td><td>EUR</td><td> 28369</td><td>MT</td><td> 50</td><td>MT</td><td>L</td><td>Malta        </td><td>Malta         </td></tr>\n",
       "\t<tr><td>2021</td><td>SE</td><td>FT</td><td>Data Specialist                   </td><td> 165000</td><td>USD</td><td>165000</td><td>US</td><td>100</td><td>US</td><td>L</td><td>United States</td><td>United States </td></tr>\n",
       "\t<tr><td>2020</td><td>SE</td><td>FT</td><td>Data Scientist                    </td><td> 412000</td><td>USD</td><td>412000</td><td>US</td><td>100</td><td>US</td><td>L</td><td>United States</td><td>United States </td></tr>\n",
       "\t<tr><td>2021</td><td>MI</td><td>FT</td><td>Principal Data Scientist          </td><td> 151000</td><td>USD</td><td>151000</td><td>US</td><td>100</td><td>US</td><td>L</td><td>United States</td><td>United States </td></tr>\n",
       "\t<tr><td>2020</td><td>EN</td><td>FT</td><td>Data Scientist                    </td><td> 105000</td><td>USD</td><td>105000</td><td>US</td><td>100</td><td>US</td><td>S</td><td>United States</td><td>United States </td></tr>\n",
       "\t<tr><td>2020</td><td>EN</td><td>CT</td><td>Business Data Analyst             </td><td> 100000</td><td>USD</td><td>100000</td><td>US</td><td>100</td><td>US</td><td>L</td><td>United States</td><td>United States </td></tr>\n",
       "\t<tr><td>2021</td><td>SE</td><td>FT</td><td>Data Science Manager              </td><td>7000000</td><td>INR</td><td> 94665</td><td>IN</td><td> 50</td><td>IN</td><td>L</td><td>India        </td><td>India         </td></tr>\n",
       "</tbody>\n",
       "</table>\n"
      ],
      "text/latex": [
       "A data.frame: 4766 × 13\n",
       "\\begin{tabular}{lllllllllllll}\n",
       " work\\_year & experience\\_level & employment\\_type & job\\_title & salary & salary\\_currency & salary\\_in\\_usd & employee\\_residence & remote\\_ratio & company\\_location & company\\_size & employee\\_residence\\_country\\_name & company\\_location\\_country\\_name\\\\\n",
       " <int> & <chr> & <chr> & <chr> & <int> & <chr> & <int> & <chr> & <int> & <chr> & <chr> & <chr> & <chr>\\\\\n",
       "\\hline\n",
       "\t 2023 & SE & FT & Software Data Engineer             & 210000 & USD & 210000 & US & 100 & US & L & United States & United States\\\\\n",
       "\t 2023 & MI & FT & Machine Learning Research Engineer &  90000 & USD &  90000 & SA & 100 & SA & M & Saudi Arabia  & Saudi Arabia \\\\\n",
       "\t 2023 & MI & FT & Data Analyst                       &  55000 & EUR &  59401 & DE &  50 & DE & L & Germany       & Germany      \\\\\n",
       "\t 2023 & SE & FT & Analytics Engineer                 &  90000 & USD &  90000 & US &   0 & US & M & United States & United States\\\\\n",
       "\t 2023 & SE & FT & Analytics Engineer                 &  84000 & USD &  84000 & US &   0 & US & M & United States & United States\\\\\n",
       "\t 2023 & SE & FT & Data Analyst                       & 160000 & USD & 160000 & US & 100 & US & M & United States & United States\\\\\n",
       "\t 2023 & SE & FT & Data Analyst                       & 140000 & USD & 140000 & US & 100 & US & M & United States & United States\\\\\n",
       "\t 2023 & SE & FT & Analytics Engineer                 & 221300 & USD & 221300 & US &   0 & US & M & United States & United States\\\\\n",
       "\t 2023 & SE & FT & Analytics Engineer                 & 147500 & USD & 147500 & US &   0 & US & M & United States & United States\\\\\n",
       "\t 2023 & EX & FT & Data Engineer                      & 204500 & USD & 204500 & US &   0 & US & M & United States & United States\\\\\n",
       "\t 2023 & EX & FT & Data Engineer                      & 130000 & USD & 130000 & US &   0 & US & M & United States & United States\\\\\n",
       "\t 2023 & SE & FT & Machine Learning Engineer          & 210000 & USD & 210000 & US & 100 & US & M & United States & United States\\\\\n",
       "\t 2023 & SE & FT & Machine Learning Engineer          & 160000 & USD & 160000 & US & 100 & US & M & United States & United States\\\\\n",
       "\t 2023 & SE & FT & Machine Learning Engineer          & 204500 & USD & 204500 & US &   0 & US & M & United States & United States\\\\\n",
       "\t 2023 & SE & FT & Machine Learning Engineer          & 142200 & USD & 142200 & US &   0 & US & M & United States & United States\\\\\n",
       "\t 2023 & SE & FT & Data Analyst                       & 186600 & USD & 186600 & US & 100 & US & M & United States & United States\\\\\n",
       "\t 2023 & SE & FT & Data Analyst                       & 119800 & USD & 119800 & US & 100 & US & M & United States & United States\\\\\n",
       "\t 2023 & SE & FT & Analytics Engineer                 & 192000 & USD & 192000 & US & 100 & US & M & United States & United States\\\\\n",
       "\t 2023 & SE & FT & Analytics Engineer                 & 151000 & USD & 151000 & US & 100 & US & M & United States & United States\\\\\n",
       "\t 2023 & SE & FT & Business Intelligence Engineer     & 185000 & USD & 185000 & US &   0 & US & L & United States & United States\\\\\n",
       "\t 2023 & SE & FT & Business Intelligence Engineer     &  79600 & USD &  79600 & US &   0 & US & L & United States & United States\\\\\n",
       "\t 2023 & SE & FT & Data Scientist                     & 169000 & USD & 169000 & US &   0 & US & M & United States & United States\\\\\n",
       "\t 2023 & SE & FT & Data Scientist                     & 129300 & USD & 129300 & US &   0 & US & M & United States & United States\\\\\n",
       "\t 2023 & SE & FT & Data Engineer                      & 204500 & USD & 204500 & US &   0 & US & M & United States & United States\\\\\n",
       "\t 2023 & SE & FT & Data Engineer                      & 142200 & USD & 142200 & US &   0 & US & M & United States & United States\\\\\n",
       "\t 2023 & SE & FT & Data Engineer                      & 250000 & USD & 250000 & US &   0 & US & M & United States & United States\\\\\n",
       "\t 2023 & SE & FT & Data Engineer                      & 130000 & USD & 130000 & US &   0 & US & M & United States & United States\\\\\n",
       "\t 2023 & SE & FT & Business Intelligence Engineer     & 210000 & USD & 210000 & US &   0 & US & M & United States & United States\\\\\n",
       "\t 2023 & SE & FT & Business Intelligence Engineer     & 170000 & USD & 170000 & US &   0 & US & M & United States & United States\\\\\n",
       "\t 2023 & SE & FT & Analytics Engineer                 & 221300 & USD & 221300 & US &   0 & US & M & United States & United States\\\\\n",
       "\t ... & ... & ... & ... & ... & ... & ... & ... & ... & ... & ... & ... & ...\\\\\n",
       "\t 2021 & EN & FT & Business Data Analyst              &   50000 & EUR &  59102 & LU & 100 & LU & L & Luxembourg    & Luxembourg    \\\\\n",
       "\t 2021 & SE & FT & Principal Data Scientist           &  147000 & EUR & 173762 & DE & 100 & DE & M & Germany       & Germany       \\\\\n",
       "\t 2020 & SE & FT & Principal Data Scientist           &  130000 & EUR & 148261 & DE & 100 & DE & M & Germany       & Germany       \\\\\n",
       "\t 2020 & MI & FT & Data Scientist                     &   34000 & EUR &  38776 & ES & 100 & ES & M & Spain         & Spain         \\\\\n",
       "\t 2021 & MI & FT & Data Scientist                     &   39600 & EUR &  46809 & ES & 100 & ES & M & Spain         & Spain         \\\\\n",
       "\t 2021 & EN & FT & AI Scientist                       & 1335000 & INR &  18053 & IN & 100 & AS & S & India         & American Samoa\\\\\n",
       "\t 2020 & SE & FT & Data Scientist                     &   80000 & EUR &  91237 & AT &   0 & AT & S & Austria       & Austria       \\\\\n",
       "\t 2020 & MI & FT & Data Scientist                     &   55000 & EUR &  62726 & FR &  50 & LU & S & France        & Luxembourg    \\\\\n",
       "\t 2021 & MI & FT & Data Scientist                     &  115000 & USD & 115000 & US &  50 & US & L & United States & United States \\\\\n",
       "\t 2021 & SE & FT & Principal Data Scientist           &  235000 & USD & 235000 & US & 100 & US & L & United States & United States \\\\\n",
       "\t 2021 & MI & FT & Lead Data Analyst                  & 1450000 & INR &  19609 & IN & 100 & IN & L & India         & India         \\\\\n",
       "\t 2021 & MI & FT & Data Analyst                       &   75000 & USD &  75000 & US &   0 & US & L & United States & United States \\\\\n",
       "\t 2021 & MI & FT & Data Analyst                       &   62000 & USD &  62000 & US &   0 & US & L & United States & United States \\\\\n",
       "\t 2021 & MI & FT & Data Scientist                     &   73000 & USD &  73000 & US &   0 & US & L & United States & United States \\\\\n",
       "\t 2021 & MI & FT & Data Engineer                      &   38400 & EUR &  45391 & NL & 100 & NL & L & Netherlands   & Netherlands   \\\\\n",
       "\t 2020 & SE & FT & Data Science Manager               &  190200 & USD & 190200 & US & 100 & US & M & United States & United States \\\\\n",
       "\t 2020 & MI & FT & Data Scientist                     &  118000 & USD & 118000 & US & 100 & US & M & United States & United States \\\\\n",
       "\t 2020 & MI & FT & Data Scientist                     &  138350 & USD & 138350 & US & 100 & US & M & United States & United States \\\\\n",
       "\t 2020 & MI & FT & Data Engineer                      &  130800 & USD & 130800 & ES & 100 & US & M & Spain         & United States \\\\\n",
       "\t 2020 & SE & FT & Machine Learning Engineer          &   40000 & EUR &  45618 & HR & 100 & HR & S & Croatia       & Croatia       \\\\\n",
       "\t 2021 & SE & FT & Director of Data Science           &  168000 & USD & 168000 & JP &   0 & JP & S & Japan         & Japan         \\\\\n",
       "\t 2021 & MI & FT & Data Scientist                     &  160000 & SGD & 119059 & SG & 100 & IL & M & Singapore     & Israel        \\\\\n",
       "\t 2021 & MI & FT & Applied Machine Learning Scientist &  423000 & USD & 423000 & US &  50 & US & L & United States & United States \\\\\n",
       "\t 2021 & MI & FT & Data Engineer                      &   24000 & EUR &  28369 & MT &  50 & MT & L & Malta         & Malta         \\\\\n",
       "\t 2021 & SE & FT & Data Specialist                    &  165000 & USD & 165000 & US & 100 & US & L & United States & United States \\\\\n",
       "\t 2020 & SE & FT & Data Scientist                     &  412000 & USD & 412000 & US & 100 & US & L & United States & United States \\\\\n",
       "\t 2021 & MI & FT & Principal Data Scientist           &  151000 & USD & 151000 & US & 100 & US & L & United States & United States \\\\\n",
       "\t 2020 & EN & FT & Data Scientist                     &  105000 & USD & 105000 & US & 100 & US & S & United States & United States \\\\\n",
       "\t 2020 & EN & CT & Business Data Analyst              &  100000 & USD & 100000 & US & 100 & US & L & United States & United States \\\\\n",
       "\t 2021 & SE & FT & Data Science Manager               & 7000000 & INR &  94665 & IN &  50 & IN & L & India         & India         \\\\\n",
       "\\end{tabular}\n"
      ],
      "text/markdown": [
       "\n",
       "A data.frame: 4766 × 13\n",
       "\n",
       "| work_year &lt;int&gt; | experience_level &lt;chr&gt; | employment_type &lt;chr&gt; | job_title &lt;chr&gt; | salary &lt;int&gt; | salary_currency &lt;chr&gt; | salary_in_usd &lt;int&gt; | employee_residence &lt;chr&gt; | remote_ratio &lt;int&gt; | company_location &lt;chr&gt; | company_size &lt;chr&gt; | employee_residence_country_name &lt;chr&gt; | company_location_country_name &lt;chr&gt; |\n",
       "|---|---|---|---|---|---|---|---|---|---|---|---|---|\n",
       "| 2023 | SE | FT | Software Data Engineer             | 210000 | USD | 210000 | US | 100 | US | L | United States | United States |\n",
       "| 2023 | MI | FT | Machine Learning Research Engineer |  90000 | USD |  90000 | SA | 100 | SA | M | Saudi Arabia  | Saudi Arabia  |\n",
       "| 2023 | MI | FT | Data Analyst                       |  55000 | EUR |  59401 | DE |  50 | DE | L | Germany       | Germany       |\n",
       "| 2023 | SE | FT | Analytics Engineer                 |  90000 | USD |  90000 | US |   0 | US | M | United States | United States |\n",
       "| 2023 | SE | FT | Analytics Engineer                 |  84000 | USD |  84000 | US |   0 | US | M | United States | United States |\n",
       "| 2023 | SE | FT | Data Analyst                       | 160000 | USD | 160000 | US | 100 | US | M | United States | United States |\n",
       "| 2023 | SE | FT | Data Analyst                       | 140000 | USD | 140000 | US | 100 | US | M | United States | United States |\n",
       "| 2023 | SE | FT | Analytics Engineer                 | 221300 | USD | 221300 | US |   0 | US | M | United States | United States |\n",
       "| 2023 | SE | FT | Analytics Engineer                 | 147500 | USD | 147500 | US |   0 | US | M | United States | United States |\n",
       "| 2023 | EX | FT | Data Engineer                      | 204500 | USD | 204500 | US |   0 | US | M | United States | United States |\n",
       "| 2023 | EX | FT | Data Engineer                      | 130000 | USD | 130000 | US |   0 | US | M | United States | United States |\n",
       "| 2023 | SE | FT | Machine Learning Engineer          | 210000 | USD | 210000 | US | 100 | US | M | United States | United States |\n",
       "| 2023 | SE | FT | Machine Learning Engineer          | 160000 | USD | 160000 | US | 100 | US | M | United States | United States |\n",
       "| 2023 | SE | FT | Machine Learning Engineer          | 204500 | USD | 204500 | US |   0 | US | M | United States | United States |\n",
       "| 2023 | SE | FT | Machine Learning Engineer          | 142200 | USD | 142200 | US |   0 | US | M | United States | United States |\n",
       "| 2023 | SE | FT | Data Analyst                       | 186600 | USD | 186600 | US | 100 | US | M | United States | United States |\n",
       "| 2023 | SE | FT | Data Analyst                       | 119800 | USD | 119800 | US | 100 | US | M | United States | United States |\n",
       "| 2023 | SE | FT | Analytics Engineer                 | 192000 | USD | 192000 | US | 100 | US | M | United States | United States |\n",
       "| 2023 | SE | FT | Analytics Engineer                 | 151000 | USD | 151000 | US | 100 | US | M | United States | United States |\n",
       "| 2023 | SE | FT | Business Intelligence Engineer     | 185000 | USD | 185000 | US |   0 | US | L | United States | United States |\n",
       "| 2023 | SE | FT | Business Intelligence Engineer     |  79600 | USD |  79600 | US |   0 | US | L | United States | United States |\n",
       "| 2023 | SE | FT | Data Scientist                     | 169000 | USD | 169000 | US |   0 | US | M | United States | United States |\n",
       "| 2023 | SE | FT | Data Scientist                     | 129300 | USD | 129300 | US |   0 | US | M | United States | United States |\n",
       "| 2023 | SE | FT | Data Engineer                      | 204500 | USD | 204500 | US |   0 | US | M | United States | United States |\n",
       "| 2023 | SE | FT | Data Engineer                      | 142200 | USD | 142200 | US |   0 | US | M | United States | United States |\n",
       "| 2023 | SE | FT | Data Engineer                      | 250000 | USD | 250000 | US |   0 | US | M | United States | United States |\n",
       "| 2023 | SE | FT | Data Engineer                      | 130000 | USD | 130000 | US |   0 | US | M | United States | United States |\n",
       "| 2023 | SE | FT | Business Intelligence Engineer     | 210000 | USD | 210000 | US |   0 | US | M | United States | United States |\n",
       "| 2023 | SE | FT | Business Intelligence Engineer     | 170000 | USD | 170000 | US |   0 | US | M | United States | United States |\n",
       "| 2023 | SE | FT | Analytics Engineer                 | 221300 | USD | 221300 | US |   0 | US | M | United States | United States |\n",
       "| ... | ... | ... | ... | ... | ... | ... | ... | ... | ... | ... | ... | ... |\n",
       "| 2021 | EN | FT | Business Data Analyst              |   50000 | EUR |  59102 | LU | 100 | LU | L | Luxembourg    | Luxembourg     |\n",
       "| 2021 | SE | FT | Principal Data Scientist           |  147000 | EUR | 173762 | DE | 100 | DE | M | Germany       | Germany        |\n",
       "| 2020 | SE | FT | Principal Data Scientist           |  130000 | EUR | 148261 | DE | 100 | DE | M | Germany       | Germany        |\n",
       "| 2020 | MI | FT | Data Scientist                     |   34000 | EUR |  38776 | ES | 100 | ES | M | Spain         | Spain          |\n",
       "| 2021 | MI | FT | Data Scientist                     |   39600 | EUR |  46809 | ES | 100 | ES | M | Spain         | Spain          |\n",
       "| 2021 | EN | FT | AI Scientist                       | 1335000 | INR |  18053 | IN | 100 | AS | S | India         | American Samoa |\n",
       "| 2020 | SE | FT | Data Scientist                     |   80000 | EUR |  91237 | AT |   0 | AT | S | Austria       | Austria        |\n",
       "| 2020 | MI | FT | Data Scientist                     |   55000 | EUR |  62726 | FR |  50 | LU | S | France        | Luxembourg     |\n",
       "| 2021 | MI | FT | Data Scientist                     |  115000 | USD | 115000 | US |  50 | US | L | United States | United States  |\n",
       "| 2021 | SE | FT | Principal Data Scientist           |  235000 | USD | 235000 | US | 100 | US | L | United States | United States  |\n",
       "| 2021 | MI | FT | Lead Data Analyst                  | 1450000 | INR |  19609 | IN | 100 | IN | L | India         | India          |\n",
       "| 2021 | MI | FT | Data Analyst                       |   75000 | USD |  75000 | US |   0 | US | L | United States | United States  |\n",
       "| 2021 | MI | FT | Data Analyst                       |   62000 | USD |  62000 | US |   0 | US | L | United States | United States  |\n",
       "| 2021 | MI | FT | Data Scientist                     |   73000 | USD |  73000 | US |   0 | US | L | United States | United States  |\n",
       "| 2021 | MI | FT | Data Engineer                      |   38400 | EUR |  45391 | NL | 100 | NL | L | Netherlands   | Netherlands    |\n",
       "| 2020 | SE | FT | Data Science Manager               |  190200 | USD | 190200 | US | 100 | US | M | United States | United States  |\n",
       "| 2020 | MI | FT | Data Scientist                     |  118000 | USD | 118000 | US | 100 | US | M | United States | United States  |\n",
       "| 2020 | MI | FT | Data Scientist                     |  138350 | USD | 138350 | US | 100 | US | M | United States | United States  |\n",
       "| 2020 | MI | FT | Data Engineer                      |  130800 | USD | 130800 | ES | 100 | US | M | Spain         | United States  |\n",
       "| 2020 | SE | FT | Machine Learning Engineer          |   40000 | EUR |  45618 | HR | 100 | HR | S | Croatia       | Croatia        |\n",
       "| 2021 | SE | FT | Director of Data Science           |  168000 | USD | 168000 | JP |   0 | JP | S | Japan         | Japan          |\n",
       "| 2021 | MI | FT | Data Scientist                     |  160000 | SGD | 119059 | SG | 100 | IL | M | Singapore     | Israel         |\n",
       "| 2021 | MI | FT | Applied Machine Learning Scientist |  423000 | USD | 423000 | US |  50 | US | L | United States | United States  |\n",
       "| 2021 | MI | FT | Data Engineer                      |   24000 | EUR |  28369 | MT |  50 | MT | L | Malta         | Malta          |\n",
       "| 2021 | SE | FT | Data Specialist                    |  165000 | USD | 165000 | US | 100 | US | L | United States | United States  |\n",
       "| 2020 | SE | FT | Data Scientist                     |  412000 | USD | 412000 | US | 100 | US | L | United States | United States  |\n",
       "| 2021 | MI | FT | Principal Data Scientist           |  151000 | USD | 151000 | US | 100 | US | L | United States | United States  |\n",
       "| 2020 | EN | FT | Data Scientist                     |  105000 | USD | 105000 | US | 100 | US | S | United States | United States  |\n",
       "| 2020 | EN | CT | Business Data Analyst              |  100000 | USD | 100000 | US | 100 | US | L | United States | United States  |\n",
       "| 2021 | SE | FT | Data Science Manager               | 7000000 | INR |  94665 | IN |  50 | IN | L | India         | India          |\n",
       "\n"
      ],
      "text/plain": [
       "     work_year experience_level employment_type\n",
       "1    2023      SE               FT             \n",
       "2    2023      MI               FT             \n",
       "3    2023      MI               FT             \n",
       "4    2023      SE               FT             \n",
       "5    2023      SE               FT             \n",
       "6    2023      SE               FT             \n",
       "7    2023      SE               FT             \n",
       "8    2023      SE               FT             \n",
       "9    2023      SE               FT             \n",
       "10   2023      EX               FT             \n",
       "11   2023      EX               FT             \n",
       "12   2023      SE               FT             \n",
       "13   2023      SE               FT             \n",
       "14   2023      SE               FT             \n",
       "15   2023      SE               FT             \n",
       "16   2023      SE               FT             \n",
       "17   2023      SE               FT             \n",
       "18   2023      SE               FT             \n",
       "19   2023      SE               FT             \n",
       "20   2023      SE               FT             \n",
       "21   2023      SE               FT             \n",
       "22   2023      SE               FT             \n",
       "23   2023      SE               FT             \n",
       "24   2023      SE               FT             \n",
       "25   2023      SE               FT             \n",
       "26   2023      SE               FT             \n",
       "27   2023      SE               FT             \n",
       "28   2023      SE               FT             \n",
       "29   2023      SE               FT             \n",
       "30   2023      SE               FT             \n",
       "...  ...       ...              ...            \n",
       "4737 2021      EN               FT             \n",
       "4738 2021      SE               FT             \n",
       "4739 2020      SE               FT             \n",
       "4740 2020      MI               FT             \n",
       "4741 2021      MI               FT             \n",
       "4742 2021      EN               FT             \n",
       "4743 2020      SE               FT             \n",
       "4744 2020      MI               FT             \n",
       "4745 2021      MI               FT             \n",
       "4746 2021      SE               FT             \n",
       "4747 2021      MI               FT             \n",
       "4748 2021      MI               FT             \n",
       "4749 2021      MI               FT             \n",
       "4750 2021      MI               FT             \n",
       "4751 2021      MI               FT             \n",
       "4752 2020      SE               FT             \n",
       "4753 2020      MI               FT             \n",
       "4754 2020      MI               FT             \n",
       "4755 2020      MI               FT             \n",
       "4756 2020      SE               FT             \n",
       "4757 2021      SE               FT             \n",
       "4758 2021      MI               FT             \n",
       "4759 2021      MI               FT             \n",
       "4760 2021      MI               FT             \n",
       "4761 2021      SE               FT             \n",
       "4762 2020      SE               FT             \n",
       "4763 2021      MI               FT             \n",
       "4764 2020      EN               FT             \n",
       "4765 2020      EN               CT             \n",
       "4766 2021      SE               FT             \n",
       "     job_title                          salary  salary_currency salary_in_usd\n",
       "1    Software Data Engineer             210000  USD             210000       \n",
       "2    Machine Learning Research Engineer  90000  USD              90000       \n",
       "3    Data Analyst                        55000  EUR              59401       \n",
       "4    Analytics Engineer                  90000  USD              90000       \n",
       "5    Analytics Engineer                  84000  USD              84000       \n",
       "6    Data Analyst                       160000  USD             160000       \n",
       "7    Data Analyst                       140000  USD             140000       \n",
       "8    Analytics Engineer                 221300  USD             221300       \n",
       "9    Analytics Engineer                 147500  USD             147500       \n",
       "10   Data Engineer                      204500  USD             204500       \n",
       "11   Data Engineer                      130000  USD             130000       \n",
       "12   Machine Learning Engineer          210000  USD             210000       \n",
       "13   Machine Learning Engineer          160000  USD             160000       \n",
       "14   Machine Learning Engineer          204500  USD             204500       \n",
       "15   Machine Learning Engineer          142200  USD             142200       \n",
       "16   Data Analyst                       186600  USD             186600       \n",
       "17   Data Analyst                       119800  USD             119800       \n",
       "18   Analytics Engineer                 192000  USD             192000       \n",
       "19   Analytics Engineer                 151000  USD             151000       \n",
       "20   Business Intelligence Engineer     185000  USD             185000       \n",
       "21   Business Intelligence Engineer      79600  USD              79600       \n",
       "22   Data Scientist                     169000  USD             169000       \n",
       "23   Data Scientist                     129300  USD             129300       \n",
       "24   Data Engineer                      204500  USD             204500       \n",
       "25   Data Engineer                      142200  USD             142200       \n",
       "26   Data Engineer                      250000  USD             250000       \n",
       "27   Data Engineer                      130000  USD             130000       \n",
       "28   Business Intelligence Engineer     210000  USD             210000       \n",
       "29   Business Intelligence Engineer     170000  USD             170000       \n",
       "30   Analytics Engineer                 221300  USD             221300       \n",
       "...  ...                                ...     ...             ...          \n",
       "4737 Business Data Analyst                50000 EUR              59102       \n",
       "4738 Principal Data Scientist            147000 EUR             173762       \n",
       "4739 Principal Data Scientist            130000 EUR             148261       \n",
       "4740 Data Scientist                       34000 EUR              38776       \n",
       "4741 Data Scientist                       39600 EUR              46809       \n",
       "4742 AI Scientist                       1335000 INR              18053       \n",
       "4743 Data Scientist                       80000 EUR              91237       \n",
       "4744 Data Scientist                       55000 EUR              62726       \n",
       "4745 Data Scientist                      115000 USD             115000       \n",
       "4746 Principal Data Scientist            235000 USD             235000       \n",
       "4747 Lead Data Analyst                  1450000 INR              19609       \n",
       "4748 Data Analyst                         75000 USD              75000       \n",
       "4749 Data Analyst                         62000 USD              62000       \n",
       "4750 Data Scientist                       73000 USD              73000       \n",
       "4751 Data Engineer                        38400 EUR              45391       \n",
       "4752 Data Science Manager                190200 USD             190200       \n",
       "4753 Data Scientist                      118000 USD             118000       \n",
       "4754 Data Scientist                      138350 USD             138350       \n",
       "4755 Data Engineer                       130800 USD             130800       \n",
       "4756 Machine Learning Engineer            40000 EUR              45618       \n",
       "4757 Director of Data Science            168000 USD             168000       \n",
       "4758 Data Scientist                      160000 SGD             119059       \n",
       "4759 Applied Machine Learning Scientist  423000 USD             423000       \n",
       "4760 Data Engineer                        24000 EUR              28369       \n",
       "4761 Data Specialist                     165000 USD             165000       \n",
       "4762 Data Scientist                      412000 USD             412000       \n",
       "4763 Principal Data Scientist            151000 USD             151000       \n",
       "4764 Data Scientist                      105000 USD             105000       \n",
       "4765 Business Data Analyst               100000 USD             100000       \n",
       "4766 Data Science Manager               7000000 INR              94665       \n",
       "     employee_residence remote_ratio company_location company_size\n",
       "1    US                 100          US               L           \n",
       "2    SA                 100          SA               M           \n",
       "3    DE                  50          DE               L           \n",
       "4    US                   0          US               M           \n",
       "5    US                   0          US               M           \n",
       "6    US                 100          US               M           \n",
       "7    US                 100          US               M           \n",
       "8    US                   0          US               M           \n",
       "9    US                   0          US               M           \n",
       "10   US                   0          US               M           \n",
       "11   US                   0          US               M           \n",
       "12   US                 100          US               M           \n",
       "13   US                 100          US               M           \n",
       "14   US                   0          US               M           \n",
       "15   US                   0          US               M           \n",
       "16   US                 100          US               M           \n",
       "17   US                 100          US               M           \n",
       "18   US                 100          US               M           \n",
       "19   US                 100          US               M           \n",
       "20   US                   0          US               L           \n",
       "21   US                   0          US               L           \n",
       "22   US                   0          US               M           \n",
       "23   US                   0          US               M           \n",
       "24   US                   0          US               M           \n",
       "25   US                   0          US               M           \n",
       "26   US                   0          US               M           \n",
       "27   US                   0          US               M           \n",
       "28   US                   0          US               M           \n",
       "29   US                   0          US               M           \n",
       "30   US                   0          US               M           \n",
       "...  ...                ...          ...              ...         \n",
       "4737 LU                 100          LU               L           \n",
       "4738 DE                 100          DE               M           \n",
       "4739 DE                 100          DE               M           \n",
       "4740 ES                 100          ES               M           \n",
       "4741 ES                 100          ES               M           \n",
       "4742 IN                 100          AS               S           \n",
       "4743 AT                   0          AT               S           \n",
       "4744 FR                  50          LU               S           \n",
       "4745 US                  50          US               L           \n",
       "4746 US                 100          US               L           \n",
       "4747 IN                 100          IN               L           \n",
       "4748 US                   0          US               L           \n",
       "4749 US                   0          US               L           \n",
       "4750 US                   0          US               L           \n",
       "4751 NL                 100          NL               L           \n",
       "4752 US                 100          US               M           \n",
       "4753 US                 100          US               M           \n",
       "4754 US                 100          US               M           \n",
       "4755 ES                 100          US               M           \n",
       "4756 HR                 100          HR               S           \n",
       "4757 JP                   0          JP               S           \n",
       "4758 SG                 100          IL               M           \n",
       "4759 US                  50          US               L           \n",
       "4760 MT                  50          MT               L           \n",
       "4761 US                 100          US               L           \n",
       "4762 US                 100          US               L           \n",
       "4763 US                 100          US               L           \n",
       "4764 US                 100          US               S           \n",
       "4765 US                 100          US               L           \n",
       "4766 IN                  50          IN               L           \n",
       "     employee_residence_country_name company_location_country_name\n",
       "1    United States                   United States                \n",
       "2    Saudi Arabia                    Saudi Arabia                 \n",
       "3    Germany                         Germany                      \n",
       "4    United States                   United States                \n",
       "5    United States                   United States                \n",
       "6    United States                   United States                \n",
       "7    United States                   United States                \n",
       "8    United States                   United States                \n",
       "9    United States                   United States                \n",
       "10   United States                   United States                \n",
       "11   United States                   United States                \n",
       "12   United States                   United States                \n",
       "13   United States                   United States                \n",
       "14   United States                   United States                \n",
       "15   United States                   United States                \n",
       "16   United States                   United States                \n",
       "17   United States                   United States                \n",
       "18   United States                   United States                \n",
       "19   United States                   United States                \n",
       "20   United States                   United States                \n",
       "21   United States                   United States                \n",
       "22   United States                   United States                \n",
       "23   United States                   United States                \n",
       "24   United States                   United States                \n",
       "25   United States                   United States                \n",
       "26   United States                   United States                \n",
       "27   United States                   United States                \n",
       "28   United States                   United States                \n",
       "29   United States                   United States                \n",
       "30   United States                   United States                \n",
       "...  ...                             ...                          \n",
       "4737 Luxembourg                      Luxembourg                   \n",
       "4738 Germany                         Germany                      \n",
       "4739 Germany                         Germany                      \n",
       "4740 Spain                           Spain                        \n",
       "4741 Spain                           Spain                        \n",
       "4742 India                           American Samoa               \n",
       "4743 Austria                         Austria                      \n",
       "4744 France                          Luxembourg                   \n",
       "4745 United States                   United States                \n",
       "4746 United States                   United States                \n",
       "4747 India                           India                        \n",
       "4748 United States                   United States                \n",
       "4749 United States                   United States                \n",
       "4750 United States                   United States                \n",
       "4751 Netherlands                     Netherlands                  \n",
       "4752 United States                   United States                \n",
       "4753 United States                   United States                \n",
       "4754 United States                   United States                \n",
       "4755 Spain                           United States                \n",
       "4756 Croatia                         Croatia                      \n",
       "4757 Japan                           Japan                        \n",
       "4758 Singapore                       Israel                       \n",
       "4759 United States                   United States                \n",
       "4760 Malta                           Malta                        \n",
       "4761 United States                   United States                \n",
       "4762 United States                   United States                \n",
       "4763 United States                   United States                \n",
       "4764 United States                   United States                \n",
       "4765 United States                   United States                \n",
       "4766 India                           India                        "
      ]
     },
     "metadata": {},
     "output_type": "display_data"
    },
    {
     "data": {
      "text/html": [
       "'list'"
      ],
      "text/latex": [
       "'list'"
      ],
      "text/markdown": [
       "'list'"
      ],
      "text/plain": [
       "[1] \"list\""
      ]
     },
     "metadata": {},
     "output_type": "display_data"
    }
   ],
   "source": [
    "df <- read.table(\"data\\\\salaries.csv\", sep = \",\", header = TRUE)\n",
    "df\n",
    "mode(df)\n"
   ]
  },
  {
   "attachments": {},
   "cell_type": "markdown",
   "metadata": {},
   "source": [
    "# Gehalt in USD\n"
   ]
  },
  {
   "cell_type": "code",
   "execution_count": 24,
   "metadata": {
    "vscode": {
     "languageId": "r"
    }
   },
   "outputs": [
    {
     "data": {
      "image/png": "[encoded data removed]",
      "text/plain": [
       "plot without title"
      ]
     },
     "metadata": {
      "image/png": {
       "height": 420,
       "width": 420
      }
     },
     "output_type": "display_data"
    }
   ],
   "source": [
    "ggplot(data = df, aes(x = salary_in_usd)) +\n",
    "  geom_histogram(binwidth = 5000, fill = \"#d1b620\", color = \"white\") +\n",
    "  labs(title = \"Gehalt in USD\", x = \"Gehalt in USD\", y = \"Häufigkeit\") +\n",
    "  scale_x_continuous(labels = scales::comma) +\n",
    "  theme_minimal()\n"
   ]
  },
  {
   "attachments": {},
   "cell_type": "markdown",
   "metadata": {},
   "source": [
    "rechtsschief / linkssteil\n"
   ]
  },
  {
   "cell_type": "code",
   "execution_count": 25,
   "metadata": {
    "vscode": {
     "languageId": "r"
    }
   },
   "outputs": [
    {
     "name": "stdout",
     "output_type": "stream",
     "text": [
      "[1] \"Zusammenfassung:\"\n"
     ]
    },
    {
     "data": {
      "text/plain": [
       "   Min. 1st Qu.  Median    Mean 3rd Qu.    Max. \n",
       "  15000  100000  140000  143427  182500  450000 "
      ]
     },
     "metadata": {},
     "output_type": "display_data"
    },
    {
     "name": "stdout",
     "output_type": "stream",
     "text": [
      "[1] \"Standardabweichung:\"\n"
     ]
    },
    {
     "data": {
      "text/html": [
       "62667.2382812204"
      ],
      "text/latex": [
       "62667.2382812204"
      ],
      "text/markdown": [
       "62667.2382812204"
      ],
      "text/plain": [
       "[1] 62667.24"
      ]
     },
     "metadata": {},
     "output_type": "display_data"
    }
   ],
   "source": [
    "print(\"Zusammenfassung:\")\n",
    "summary(df$salary_in_usd)\n",
    "print(\"Standardabweichung:\")\n",
    "sd(df$salary_in_usd)\n"
   ]
  },
  {
   "attachments": {},
   "cell_type": "markdown",
   "metadata": {},
   "source": [
    "Min: Geringster Wert im Datensatz  \n",
    "Max: Höchster Wert im Datensatz  \n",
    "1st Quartil: 25 % Der Werte sind kleiner als 1st Quartil, 75 % der Werte größer  \n",
    "3rd Quartil: 75 % Der Werte sind kleiner als 1st Quartil, 25 % der Werte größer  \n",
    "Median (Zentralwert): Der Wert, der genau in der Mitte einer Datenverteilung liegt  \n",
    "Mean (avg, Durchschnitt, Mittelwert): 2nd Quartil, 50 % Der Werte sind kleiner als 1st Quartil, 50 % der Werte größer  \n",
    "Standardabweichung: durchschnittliche Abweichung vom Mittelwert\n",
    "\n",
    "Grobe Erklärung:  \n",
    "https://de.statista.com/statistik/lexikon/definition/106/quantil/  \n",
    "https://de.statista.com/statistik/lexikon/definition/91/mittelwert_und_arithmetisches_mittel/\n"
   ]
  },
  {
   "attachments": {},
   "cell_type": "markdown",
   "metadata": {},
   "source": [
    "Nach experience_level\n"
   ]
  },
  {
   "cell_type": "code",
   "execution_count": 26,
   "metadata": {
    "vscode": {
     "languageId": "r"
    }
   },
   "outputs": [
    {
     "data": {
      "image/png": "[encoded data removed]",
      "text/plain": [
       "plot without title"
      ]
     },
     "metadata": {
      "image/png": {
       "height": 420,
       "width": 420
      }
     },
     "output_type": "display_data"
    }
   ],
   "source": [
    "df_ex <- df %>%\n",
    "  group_by(experience_level) %>%\n",
    "  mutate(mean_salary = mean(salary_in_usd)) %>%\n",
    "  ungroup() %>%\n",
    "  mutate(experience_level = reorder(experience_level, -mean_salary))\n",
    "  \n",
    "\n",
    "ggplot(df_ex, aes(x = experience_level, y = salary_in_usd)) +\n",
    "  geom_boxplot(fill = \"lightblue\", outlier.colour = \"red\", outlier.size = 1) +\n",
    "  labs(title = \"Gehalt in USD nach Erfahrungslevel\", x = \"Erfahrungslevel\", y = \"Gehalt in USD\") +\n",
    "  scale_y_continuous(labels = scales::comma) +\n",
    "  theme_minimal()\n"
   ]
  },
  {
   "attachments": {},
   "cell_type": "markdown",
   "metadata": {},
   "source": [
    "Nach company_location 10 länder mit den meisten unternehmen\n"
   ]
  },
  {
   "cell_type": "code",
   "execution_count": 27,
   "metadata": {
    "vscode": {
     "languageId": "r"
    }
   },
   "outputs": [
    {
     "data": {
      "image/png": "[encoded data removed]",
      "text/plain": [
       "plot without title"
      ]
     },
     "metadata": {
      "image/png": {
       "height": 420,
       "width": 420
      }
     },
     "output_type": "display_data"
    }
   ],
   "source": [
    "df_top_countries <- df %>%\n",
    "  group_by(company_location) %>%\n",
    "  count() %>%\n",
    "  arrange(desc(n)) %>%\n",
    "  head(10)\n",
    "\n",
    "df_counties <- df %>%\n",
    "  group_by(company_location) %>%\n",
    "  filter(company_location %in% df_top_countries$company_location) %>%\n",
    "  mutate(mean_salary = mean(salary_in_usd)) %>%\n",
    "  ungroup() %>%\n",
    "  mutate(company_location = reorder(company_location, -mean_salary))\n",
    "\n",
    "ggplot(df_counties, aes(x = company_location, y = salary_in_usd)) +\n",
    "  geom_boxplot(fill = \"lightblue\", outlier.colour = \"red\", outlier.size = 1) +\n",
    "  labs(title = \"Gehalt in USD nach Unternehmenstandort\", x = \"Unternehmenstandort\", y = \"Gehalt in USD\") +\n",
    "  scale_y_continuous(labels = scales::comma) +\n",
    "  theme_minimal()\n"
   ]
  },
  {
   "attachments": {},
   "cell_type": "markdown",
   "metadata": {},
   "source": [
    "Nach company_size\n"
   ]
  },
  {
   "cell_type": "code",
   "execution_count": 28,
   "metadata": {
    "vscode": {
     "languageId": "r"
    }
   },
   "outputs": [
    {
     "data": {
      "image/png": "[encoded data removed]",
      "text/plain": [
       "plot without title"
      ]
     },
     "metadata": {
      "image/png": {
       "height": 420,
       "width": 420
      }
     },
     "output_type": "display_data"
    }
   ],
   "source": [
    "size_order <- c('S', 'M', 'L')\n",
    "\n",
    "df_cz <- df %>%\n",
    "  mutate(company_size = factor(company_size, levels = size_order)) %>%\n",
    "  group_by(company_size)\n",
    "\n",
    "ggplot(df_cz, aes(x = company_size, y = salary_in_usd)) +\n",
    "  geom_boxplot(fill = \"lightblue\", outlier.colour = \"red\", outlier.size = 2) +\n",
    "  labs(title = \"Gehalt in USD nach Unternehmensgröße\", x = \"Unternehmensgröße\", y = \"Gehalt in USD\") +\n",
    "  scale_y_continuous(labels = scales::comma) +\n",
    "  theme_minimal()\n"
   ]
  },
  {
   "attachments": {},
   "cell_type": "markdown",
   "metadata": {},
   "source": [
    "Spearman Correlation\n"
   ]
  },
  {
   "attachments": {},
   "cell_type": "markdown",
   "metadata": {},
   "source": [
    "# Work Year\n"
   ]
  },
  {
   "cell_type": "code",
   "execution_count": 29,
   "metadata": {
    "vscode": {
     "languageId": "r"
    }
   },
   "outputs": [
    {
     "data": {
      "image/png": "[encoded data removed]",
      "text/plain": [
       "plot without title"
      ]
     },
     "metadata": {
      "image/png": {
       "height": 420,
       "width": 420
      }
     },
     "output_type": "display_data"
    }
   ],
   "source": [
    "ggplot(data = df, aes(x = work_year)) +\n",
    "  geom_histogram(binwidth = 1, fill = \"#d1b620\", color = \"white\") +\n",
    "  labs(title = \"Arbeitsjahr\", x = \"Jahr\", y = \"Häufigkeit\") +\n",
    "  theme_minimal()\n"
   ]
  },
  {
   "cell_type": "code",
   "execution_count": 30,
   "metadata": {
    "vscode": {
     "languageId": "r"
    }
   },
   "outputs": [
    {
     "name": "stdout",
     "output_type": "stream",
     "text": [
      "[1] \"Zusammenfassung:\"\n"
     ]
    },
    {
     "data": {
      "text/plain": [
       "   Min. 1st Qu.  Median    Mean 3rd Qu.    Max. \n",
       "   2020    2022    2023    2023    2023    2023 "
      ]
     },
     "metadata": {},
     "output_type": "display_data"
    },
    {
     "name": "stdout",
     "output_type": "stream",
     "text": [
      "[1] \"Standardabweichung:\"\n"
     ]
    },
    {
     "data": {
      "text/html": [
       "0.654900851281216"
      ],
      "text/latex": [
       "0.654900851281216"
      ],
      "text/markdown": [
       "0.654900851281216"
      ],
      "text/plain": [
       "[1] 0.6549009"
      ]
     },
     "metadata": {},
     "output_type": "display_data"
    }
   ],
   "source": [
    "print(\"Zusammenfassung:\")\n",
    "summary(df$work_year)\n",
    "print(\"Standardabweichung:\")\n",
    "sd(df$work_year)\n"
   ]
  },
  {
   "attachments": {},
   "cell_type": "markdown",
   "metadata": {},
   "source": [
    "# employee_residence\n"
   ]
  },
  {
   "cell_type": "code",
   "execution_count": 31,
   "metadata": {
    "vscode": {
     "languageId": "r"
    }
   },
   "outputs": [
    {
     "data": {
      "image/png": "[encoded data removed]",
      "text/plain": [
       "plot without title"
      ]
     },
     "metadata": {
      "image/png": {
       "height": 420,
       "width": 420
      }
     },
     "output_type": "display_data"
    }
   ],
   "source": [
    "world <- ne_countries(scale = \"medium\", returnclass = \"sf\")\n",
    "agg_emp_data <- df %>%\n",
    "    group_by(employee_residence) %>%\n",
    "    summarise(emp_count = n())\n",
    "\n",
    "# Join employee data with world map data\n",
    "world_with_emp_data <- world %>%\n",
    "    left_join(agg_emp_data, by = c(\"iso_a2\" = \"employee_residence\"))\n",
    "\n",
    "ggplot(data = world_with_emp_data) +\n",
    "    geom_sf(aes(fill = emp_count)) +\n",
    "    scale_fill_viridis_c(\n",
    "        option = \"viridis\", trans = \"log10\",\n",
    "        na.value = \"gray90\", guide = guide_colorbar(title = \"Anzahl\")\n",
    "    ) +\n",
    "    labs(title = \"Mitarbeiterwohnsitz nach Land\") +\n",
    "    theme_minimal()\n"
   ]
  },
  {
   "cell_type": "code",
   "execution_count": 32,
   "metadata": {
    "vscode": {
     "languageId": "r"
    }
   },
   "outputs": [
    {
     "name": "stdout",
     "output_type": "stream",
     "text": [
      "Mode: United States\n"
     ]
    }
   ],
   "source": [
    "m <- Mode(df$employee_residence_country_name)\n",
    "printf(\"Mode: %s\\n\", m)\n"
   ]
  },
  {
   "attachments": {},
   "cell_type": "markdown",
   "metadata": {},
   "source": [
    "# company_location\n"
   ]
  },
  {
   "cell_type": "code",
   "execution_count": 33,
   "metadata": {
    "vscode": {
     "languageId": "r"
    }
   },
   "outputs": [
    {
     "data": {
      "image/png": "[encoded data removed]",
      "text/plain": [
       "plot without title"
      ]
     },
     "metadata": {
      "image/png": {
       "height": 420,
       "width": 420
      }
     },
     "output_type": "display_data"
    }
   ],
   "source": [
    "agg_company_data <- df %>%\n",
    "    group_by(company_location) %>%\n",
    "    summarise(comp_count = n())\n",
    "\n",
    "# Join employee data with world map data\n",
    "world_with_company_data <- world %>%\n",
    "    left_join(agg_company_data, by = c(\"iso_a2\" = \"company_location\"))\n",
    "\n",
    "ggplot(data = world_with_company_data) +\n",
    "    geom_sf(aes(fill = comp_count)) +\n",
    "    scale_fill_viridis_c(\n",
    "        option = \"viridis\", trans = \"log10\",\n",
    "        na.value = \"gray90\", guide = guide_colorbar(title = \"Anzahl\")\n",
    "    ) +\n",
    "    labs(title = \"Unternehmensanzahl nach Land\") +\n",
    "    theme_minimal()\n"
   ]
  },
  {
   "cell_type": "code",
   "execution_count": 34,
   "metadata": {
    "vscode": {
     "languageId": "r"
    }
   },
   "outputs": [
    {
     "name": "stdout",
     "output_type": "stream",
     "text": [
      "Mode: United States\n"
     ]
    }
   ],
   "source": [
    "m <- Mode(df$company_location_country_name)\n",
    "printf(\"Mode: %s\\n\", m)\n"
   ]
  },
  {
   "attachments": {},
   "cell_type": "markdown",
   "metadata": {},
   "source": [
    "# Experience Level\n"
   ]
  },
  {
   "cell_type": "code",
   "execution_count": 35,
   "metadata": {
    "vscode": {
     "languageId": "r"
    }
   },
   "outputs": [
    {
     "data": {
      "image/png": "[encoded data removed]",
      "text/plain": [
       "plot without title"
      ]
     },
     "metadata": {
      "image/png": {
       "height": 420,
       "width": 420
      }
     },
     "output_type": "display_data"
    }
   ],
   "source": [
    "exp_order <- c('EN', 'MI', 'SE', 'EX')\n",
    "\n",
    "df_exp_ordered <- df %>%\n",
    "  mutate(experience_level = factor(experience_level, levels = exp_order))\n",
    "\n",
    "ggplot(data = df_exp_ordered, aes(x = experience_level, fill = experience_level)) +\n",
    "  geom_bar() +\n",
    "  labs(title = \"Erfahrungslevel\", x = \"Erfahrungslevel\", y = \"Häufigkeit\", fill = \"Erfahrungslevel\") +\n",
    "  theme_minimal()\n"
   ]
  },
  {
   "cell_type": "code",
   "execution_count": 36,
   "metadata": {
    "vscode": {
     "languageId": "r"
    }
   },
   "outputs": [
    {
     "name": "stdout",
     "output_type": "stream",
     "text": [
      "Mode: SE\n"
     ]
    }
   ],
   "source": [
    "m <- Mode(df$experience_level)\n",
    "printf(\"Mode: %s\\n\", m)\n"
   ]
  },
  {
   "attachments": {},
   "cell_type": "markdown",
   "metadata": {},
   "source": [
    "# employment_type\n"
   ]
  },
  {
   "cell_type": "code",
   "execution_count": 37,
   "metadata": {
    "vscode": {
     "languageId": "r"
    }
   },
   "outputs": [
    {
     "data": {
      "image/png": "[encoded data removed]",
      "text/plain": [
       "plot without title"
      ]
     },
     "metadata": {
      "image/png": {
       "height": 420,
       "width": 420
      }
     },
     "output_type": "display_data"
    }
   ],
   "source": [
    "emp_order <- c('PT', 'FT', 'FL', 'CT')\n",
    "\n",
    "df_emp_ordered <- df %>%\n",
    "  mutate(employment_type = factor(employment_type, levels = emp_order))\n",
    "\n",
    "ggplot(data = df_emp_ordered, aes(x = employment_type, fill = employment_type)) +\n",
    "  geom_bar() +\n",
    "  labs(title = \"Art der Beschäftigung\", x = \"Art der Beschäftigung \", y = \"Häufigkeit\", fill = \"Beschäftigung\") +\n",
    "  theme_minimal()\n"
   ]
  },
  {
   "cell_type": "code",
   "execution_count": 38,
   "metadata": {
    "vscode": {
     "languageId": "r"
    }
   },
   "outputs": [
    {
     "name": "stdout",
     "output_type": "stream",
     "text": [
      "Mode: FT\n"
     ]
    }
   ],
   "source": [
    "m <- Mode(df$employment_type)\n",
    "printf(\"Mode: %s\\n\", m)\n"
   ]
  },
  {
   "attachments": {},
   "cell_type": "markdown",
   "metadata": {},
   "source": [
    "# company_size\n"
   ]
  },
  {
   "cell_type": "code",
   "execution_count": 39,
   "metadata": {
    "vscode": {
     "languageId": "r"
    }
   },
   "outputs": [
    {
     "data": {
      "image/png": "[encoded data removed]",
      "text/plain": [
       "plot without title"
      ]
     },
     "metadata": {
      "image/png": {
       "height": 420,
       "width": 420
      }
     },
     "output_type": "display_data"
    }
   ],
   "source": [
    "size_order <- c('S', 'M', 'L')\n",
    "\n",
    "df_cs <- df %>%\n",
    "  mutate(company_size = factor(company_size, levels = size_order)) %>%\n",
    "  group_by(company_size)\n",
    "\n",
    "ggplot(data = df_cs, aes(x = company_size, fill = company_size)) +\n",
    "  geom_bar() +\n",
    "  labs(title = \"Unternehmensgröße\", x = \"Unternehmensgröße\", y = \"Häufigkeit\", fill = \"Unternehmensgröße\") +\n",
    "  theme_minimal()\n"
   ]
  },
  {
   "attachments": {},
   "cell_type": "markdown",
   "metadata": {},
   "source": [
    "# salary_currency\n"
   ]
  },
  {
   "cell_type": "code",
   "execution_count": 40,
   "metadata": {
    "vscode": {
     "languageId": "r"
    }
   },
   "outputs": [
    {
     "name": "stdout",
     "output_type": "stream",
     "text": [
      "Mode: USD\n"
     ]
    },
    {
     "data": {
      "text/html": [
       "'Häufigkeiten:'"
      ],
      "text/latex": [
       "'Häufigkeiten:'"
      ],
      "text/markdown": [
       "'Häufigkeiten:'"
      ],
      "text/plain": [
       "[1] \"Häufigkeiten:\""
      ]
     },
     "metadata": {},
     "output_type": "display_data"
    },
    {
     "data": {
      "text/html": [
       "<table class=\"dataframe\">\n",
       "<caption>A tibble: 21 × 4</caption>\n",
       "<thead>\n",
       "\t<tr><th scope=col>salary_currency</th><th scope=col>absolute</th><th scope=col>relative</th><th scope=col>prozentual</th></tr>\n",
       "\t<tr><th scope=col>&lt;chr&gt;</th><th scope=col>&lt;int&gt;</th><th scope=col>&lt;dbl&gt;</th><th scope=col>&lt;dbl&gt;</th></tr>\n",
       "</thead>\n",
       "<tbody>\n",
       "\t<tr><td>USD</td><td>4200</td><td>0.88</td><td>88</td></tr>\n",
       "\t<tr><td>EUR</td><td> 250</td><td>0.05</td><td> 5</td></tr>\n",
       "\t<tr><td>GBP</td><td> 198</td><td>0.04</td><td> 4</td></tr>\n",
       "\t<tr><td>INR</td><td>  43</td><td>0.01</td><td> 1</td></tr>\n",
       "\t<tr><td>CAD</td><td>  26</td><td>0.01</td><td> 1</td></tr>\n",
       "\t<tr><td>AUD</td><td>  10</td><td>0.00</td><td> 0</td></tr>\n",
       "\t<tr><td>PLN</td><td>   6</td><td>0.00</td><td> 0</td></tr>\n",
       "\t<tr><td>SGD</td><td>   6</td><td>0.00</td><td> 0</td></tr>\n",
       "\t<tr><td>CHF</td><td>   4</td><td>0.00</td><td> 0</td></tr>\n",
       "\t<tr><td>JPY</td><td>   4</td><td>0.00</td><td> 0</td></tr>\n",
       "\t<tr><td>DKK</td><td>   3</td><td>0.00</td><td> 0</td></tr>\n",
       "\t<tr><td>HUF</td><td>   3</td><td>0.00</td><td> 0</td></tr>\n",
       "\t<tr><td>BRL</td><td>   2</td><td>0.00</td><td> 0</td></tr>\n",
       "\t<tr><td>NOK</td><td>   2</td><td>0.00</td><td> 0</td></tr>\n",
       "\t<tr><td>THB</td><td>   2</td><td>0.00</td><td> 0</td></tr>\n",
       "\t<tr><td>TRY</td><td>   2</td><td>0.00</td><td> 0</td></tr>\n",
       "\t<tr><td>CLP</td><td>   1</td><td>0.00</td><td> 0</td></tr>\n",
       "\t<tr><td>HKD</td><td>   1</td><td>0.00</td><td> 0</td></tr>\n",
       "\t<tr><td>ILS</td><td>   1</td><td>0.00</td><td> 0</td></tr>\n",
       "\t<tr><td>MXN</td><td>   1</td><td>0.00</td><td> 0</td></tr>\n",
       "\t<tr><td>ZAR</td><td>   1</td><td>0.00</td><td> 0</td></tr>\n",
       "</tbody>\n",
       "</table>\n"
      ],
      "text/latex": [
       "A tibble: 21 × 4\n",
       "\\begin{tabular}{llll}\n",
       " salary\\_currency & absolute & relative & prozentual\\\\\n",
       " <chr> & <int> & <dbl> & <dbl>\\\\\n",
       "\\hline\n",
       "\t USD & 4200 & 0.88 & 88\\\\\n",
       "\t EUR &  250 & 0.05 &  5\\\\\n",
       "\t GBP &  198 & 0.04 &  4\\\\\n",
       "\t INR &   43 & 0.01 &  1\\\\\n",
       "\t CAD &   26 & 0.01 &  1\\\\\n",
       "\t AUD &   10 & 0.00 &  0\\\\\n",
       "\t PLN &    6 & 0.00 &  0\\\\\n",
       "\t SGD &    6 & 0.00 &  0\\\\\n",
       "\t CHF &    4 & 0.00 &  0\\\\\n",
       "\t JPY &    4 & 0.00 &  0\\\\\n",
       "\t DKK &    3 & 0.00 &  0\\\\\n",
       "\t HUF &    3 & 0.00 &  0\\\\\n",
       "\t BRL &    2 & 0.00 &  0\\\\\n",
       "\t NOK &    2 & 0.00 &  0\\\\\n",
       "\t THB &    2 & 0.00 &  0\\\\\n",
       "\t TRY &    2 & 0.00 &  0\\\\\n",
       "\t CLP &    1 & 0.00 &  0\\\\\n",
       "\t HKD &    1 & 0.00 &  0\\\\\n",
       "\t ILS &    1 & 0.00 &  0\\\\\n",
       "\t MXN &    1 & 0.00 &  0\\\\\n",
       "\t ZAR &    1 & 0.00 &  0\\\\\n",
       "\\end{tabular}\n"
      ],
      "text/markdown": [
       "\n",
       "A tibble: 21 × 4\n",
       "\n",
       "| salary_currency &lt;chr&gt; | absolute &lt;int&gt; | relative &lt;dbl&gt; | prozentual &lt;dbl&gt; |\n",
       "|---|---|---|---|\n",
       "| USD | 4200 | 0.88 | 88 |\n",
       "| EUR |  250 | 0.05 |  5 |\n",
       "| GBP |  198 | 0.04 |  4 |\n",
       "| INR |   43 | 0.01 |  1 |\n",
       "| CAD |   26 | 0.01 |  1 |\n",
       "| AUD |   10 | 0.00 |  0 |\n",
       "| PLN |    6 | 0.00 |  0 |\n",
       "| SGD |    6 | 0.00 |  0 |\n",
       "| CHF |    4 | 0.00 |  0 |\n",
       "| JPY |    4 | 0.00 |  0 |\n",
       "| DKK |    3 | 0.00 |  0 |\n",
       "| HUF |    3 | 0.00 |  0 |\n",
       "| BRL |    2 | 0.00 |  0 |\n",
       "| NOK |    2 | 0.00 |  0 |\n",
       "| THB |    2 | 0.00 |  0 |\n",
       "| TRY |    2 | 0.00 |  0 |\n",
       "| CLP |    1 | 0.00 |  0 |\n",
       "| HKD |    1 | 0.00 |  0 |\n",
       "| ILS |    1 | 0.00 |  0 |\n",
       "| MXN |    1 | 0.00 |  0 |\n",
       "| ZAR |    1 | 0.00 |  0 |\n",
       "\n"
      ],
      "text/plain": [
       "   salary_currency absolute relative prozentual\n",
       "1  USD             4200     0.88     88        \n",
       "2  EUR              250     0.05      5        \n",
       "3  GBP              198     0.04      4        \n",
       "4  INR               43     0.01      1        \n",
       "5  CAD               26     0.01      1        \n",
       "6  AUD               10     0.00      0        \n",
       "7  PLN                6     0.00      0        \n",
       "8  SGD                6     0.00      0        \n",
       "9  CHF                4     0.00      0        \n",
       "10 JPY                4     0.00      0        \n",
       "11 DKK                3     0.00      0        \n",
       "12 HUF                3     0.00      0        \n",
       "13 BRL                2     0.00      0        \n",
       "14 NOK                2     0.00      0        \n",
       "15 THB                2     0.00      0        \n",
       "16 TRY                2     0.00      0        \n",
       "17 CLP                1     0.00      0        \n",
       "18 HKD                1     0.00      0        \n",
       "19 ILS                1     0.00      0        \n",
       "20 MXN                1     0.00      0        \n",
       "21 ZAR                1     0.00      0        "
      ]
     },
     "metadata": {},
     "output_type": "display_data"
    },
    {
     "name": "stdout",
     "output_type": "stream",
     "text": [
      "Gini: 0.211300"
     ]
    }
   ],
   "source": [
    "modalwert <- Mode(df$salary_currency)\n",
    "printf(\"Mode: %s\\n\", modalwert)\n",
    "\n",
    "haeufigkeit <- Haeufigkeit(df, salary_currency)\n",
    "\"Häufigkeiten:\"\n",
    "haeufigkeit\n",
    "\n",
    "gini <- Gini_Simpson(haeufigkeit$relative)\n",
    "printf(\"Gini: %f\", gini)"
   ]
  },
  {
   "attachments": {},
   "cell_type": "markdown",
   "metadata": {},
   "source": [
    "# company_size\n"
   ]
  },
  {
   "cell_type": "code",
   "execution_count": 41,
   "metadata": {
    "vscode": {
     "languageId": "r"
    }
   },
   "outputs": [
    {
     "name": "stdout",
     "output_type": "stream",
     "text": [
      "Mode: M\n"
     ]
    }
   ],
   "source": [
    "m <- Mode(df$company_size)\n",
    "printf(\"Mode: %s\\n\", m)\n"
   ]
  },
  {
   "attachments": {},
   "cell_type": "markdown",
   "metadata": {},
   "source": [
    "# Korrelationen\n",
    "\n",
    "[Skalen](https://wissenschafts-thurm.de/wp-content/uploads/2016/09/Skalenniveaus.jpg)\n",
    "\n",
    "muss in zahlen ausdrückbar sein\n"
   ]
  },
  {
   "cell_type": "code",
   "execution_count": 42,
   "metadata": {
    "vscode": {
     "languageId": "r"
    }
   },
   "outputs": [],
   "source": [
    "newdf <- df %>% select(where(is.numeric))\n"
   ]
  },
  {
   "attachments": {},
   "cell_type": "markdown",
   "metadata": {},
   "source": [
    "Pearson's correlation between salary and work_year (nicht gut für Skalen Kardinalskala, wie hier!)\n",
    "\n",
    "salary_in_usd ist verhältnis, work_year ordninal\n",
    "\n",
    "Intervall: -1 < r < 1\n",
    "[-1 (Antikorrelation), 1 (Korrelation)]\n"
   ]
  },
  {
   "cell_type": "code",
   "execution_count": 43,
   "metadata": {
    "vscode": {
     "languageId": "r"
    }
   },
   "outputs": [
    {
     "data": {
      "text/html": [
       "0.217253522684109"
      ],
      "text/latex": [
       "0.217253522684109"
      ],
      "text/markdown": [
       "0.217253522684109"
      ],
      "text/plain": [
       "[1] 0.2172535"
      ]
     },
     "metadata": {},
     "output_type": "display_data"
    }
   ],
   "source": [
    "correlation <- cor(df$salary_in_usd, df$work_year)\n",
    "correlation\n"
   ]
  },
  {
   "attachments": {},
   "cell_type": "markdown",
   "metadata": {},
   "source": [
    "Calculate Spearman's rank correlation between remote_ratio and salary\n",
    "\n",
    "Intervall: -1 < r < 1\n",
    "[-1 (Antikorrelation), 1 (Korrelation)]\n"
   ]
  },
  {
   "cell_type": "code",
   "execution_count": 44,
   "metadata": {
    "vscode": {
     "languageId": "r"
    }
   },
   "outputs": [
    {
     "data": {
      "text/html": [
       "0.204063006343885"
      ],
      "text/latex": [
       "0.204063006343885"
      ],
      "text/markdown": [
       "0.204063006343885"
      ],
      "text/plain": [
       "[1] 0.204063"
      ]
     },
     "metadata": {},
     "output_type": "display_data"
    }
   ],
   "source": [
    "correlation <- cor(df$salary_in_usd, df$work_year, method = \"spearman\")\n",
    "correlation\n"
   ]
  },
  {
   "attachments": {},
   "cell_type": "markdown",
   "metadata": {},
   "source": [
    "Pearson Correlation\n"
   ]
  },
  {
   "cell_type": "code",
   "execution_count": 45,
   "metadata": {
    "vscode": {
     "languageId": "r"
    }
   },
   "outputs": [
    {
     "data": {
      "text/html": [
       "<table class=\"dataframe\">\n",
       "<caption>A matrix: 4 × 4 of type dbl</caption>\n",
       "<thead>\n",
       "\t<tr><th></th><th scope=col>work_year</th><th scope=col>salary</th><th scope=col>salary_in_usd</th><th scope=col>remote_ratio</th></tr>\n",
       "</thead>\n",
       "<tbody>\n",
       "\t<tr><th scope=row>work_year</th><td> 1.00000000</td><td>-0.092195886</td><td> 0.217253523</td><td>-0.21299049</td></tr>\n",
       "\t<tr><th scope=row>salary</th><td>-0.09219589</td><td> 1.000000000</td><td>-0.004254672</td><td> 0.02551045</td></tr>\n",
       "\t<tr><th scope=row>salary_in_usd</th><td> 0.21725352</td><td>-0.004254672</td><td> 1.000000000</td><td>-0.07687290</td></tr>\n",
       "\t<tr><th scope=row>remote_ratio</th><td>-0.21299049</td><td> 0.025510451</td><td>-0.076872897</td><td> 1.00000000</td></tr>\n",
       "</tbody>\n",
       "</table>\n"
      ],
      "text/latex": [
       "A matrix: 4 × 4 of type dbl\n",
       "\\begin{tabular}{r|llll}\n",
       "  & work\\_year & salary & salary\\_in\\_usd & remote\\_ratio\\\\\n",
       "\\hline\n",
       "\twork\\_year &  1.00000000 & -0.092195886 &  0.217253523 & -0.21299049\\\\\n",
       "\tsalary & -0.09219589 &  1.000000000 & -0.004254672 &  0.02551045\\\\\n",
       "\tsalary\\_in\\_usd &  0.21725352 & -0.004254672 &  1.000000000 & -0.07687290\\\\\n",
       "\tremote\\_ratio & -0.21299049 &  0.025510451 & -0.076872897 &  1.00000000\\\\\n",
       "\\end{tabular}\n"
      ],
      "text/markdown": [
       "\n",
       "A matrix: 4 × 4 of type dbl\n",
       "\n",
       "| <!--/--> | work_year | salary | salary_in_usd | remote_ratio |\n",
       "|---|---|---|---|---|\n",
       "| work_year |  1.00000000 | -0.092195886 |  0.217253523 | -0.21299049 |\n",
       "| salary | -0.09219589 |  1.000000000 | -0.004254672 |  0.02551045 |\n",
       "| salary_in_usd |  0.21725352 | -0.004254672 |  1.000000000 | -0.07687290 |\n",
       "| remote_ratio | -0.21299049 |  0.025510451 | -0.076872897 |  1.00000000 |\n",
       "\n"
      ],
      "text/plain": [
       "              work_year   salary       salary_in_usd remote_ratio\n",
       "work_year      1.00000000 -0.092195886  0.217253523  -0.21299049 \n",
       "salary        -0.09219589  1.000000000 -0.004254672   0.02551045 \n",
       "salary_in_usd  0.21725352 -0.004254672  1.000000000  -0.07687290 \n",
       "remote_ratio  -0.21299049  0.025510451 -0.076872897   1.00000000 "
      ]
     },
     "metadata": {},
     "output_type": "display_data"
    }
   ],
   "source": [
    "cor(newdf)\n"
   ]
  },
  {
   "cell_type": "code",
   "execution_count": 46,
   "metadata": {
    "vscode": {
     "languageId": "r"
    }
   },
   "outputs": [
    {
     "data": {
      "text/html": [
       "<table class=\"dataframe\">\n",
       "<caption>A matrix: 4 × 4 of type dbl</caption>\n",
       "<thead>\n",
       "\t<tr><th></th><th scope=col>work_year</th><th scope=col>salary</th><th scope=col>salary_in_usd</th><th scope=col>remote_ratio</th></tr>\n",
       "</thead>\n",
       "<tbody>\n",
       "\t<tr><th scope=row>work_year</th><td> 1.0000000</td><td> 0.15960528</td><td> 0.20406301</td><td>-0.22426536</td></tr>\n",
       "\t<tr><th scope=row>salary</th><td> 0.1596053</td><td> 1.00000000</td><td> 0.92301437</td><td>-0.04436938</td></tr>\n",
       "\t<tr><th scope=row>salary_in_usd</th><td> 0.2040630</td><td> 0.92301437</td><td> 1.00000000</td><td>-0.07305041</td></tr>\n",
       "\t<tr><th scope=row>remote_ratio</th><td>-0.2242654</td><td>-0.04436938</td><td>-0.07305041</td><td> 1.00000000</td></tr>\n",
       "</tbody>\n",
       "</table>\n"
      ],
      "text/latex": [
       "A matrix: 4 × 4 of type dbl\n",
       "\\begin{tabular}{r|llll}\n",
       "  & work\\_year & salary & salary\\_in\\_usd & remote\\_ratio\\\\\n",
       "\\hline\n",
       "\twork\\_year &  1.0000000 &  0.15960528 &  0.20406301 & -0.22426536\\\\\n",
       "\tsalary &  0.1596053 &  1.00000000 &  0.92301437 & -0.04436938\\\\\n",
       "\tsalary\\_in\\_usd &  0.2040630 &  0.92301437 &  1.00000000 & -0.07305041\\\\\n",
       "\tremote\\_ratio & -0.2242654 & -0.04436938 & -0.07305041 &  1.00000000\\\\\n",
       "\\end{tabular}\n"
      ],
      "text/markdown": [
       "\n",
       "A matrix: 4 × 4 of type dbl\n",
       "\n",
       "| <!--/--> | work_year | salary | salary_in_usd | remote_ratio |\n",
       "|---|---|---|---|---|\n",
       "| work_year |  1.0000000 |  0.15960528 |  0.20406301 | -0.22426536 |\n",
       "| salary |  0.1596053 |  1.00000000 |  0.92301437 | -0.04436938 |\n",
       "| salary_in_usd |  0.2040630 |  0.92301437 |  1.00000000 | -0.07305041 |\n",
       "| remote_ratio | -0.2242654 | -0.04436938 | -0.07305041 |  1.00000000 |\n",
       "\n"
      ],
      "text/plain": [
       "              work_year  salary      salary_in_usd remote_ratio\n",
       "work_year      1.0000000  0.15960528  0.20406301   -0.22426536 \n",
       "salary         0.1596053  1.00000000  0.92301437   -0.04436938 \n",
       "salary_in_usd  0.2040630  0.92301437  1.00000000   -0.07305041 \n",
       "remote_ratio  -0.2242654 -0.04436938 -0.07305041    1.00000000 "
      ]
     },
     "metadata": {},
     "output_type": "display_data"
    }
   ],
   "source": [
    "cor(newdf, method = \"spearman\")\n"
   ]
  },
  {
   "attachments": {},
   "cell_type": "markdown",
   "metadata": {},
   "source": [
    "# Regression\n"
   ]
  },
  {
   "cell_type": "code",
   "execution_count": 47,
   "metadata": {
    "vscode": {
     "languageId": "r"
    }
   },
   "outputs": [
    {
     "data": {
      "text/plain": [
       "\n",
       "Call:\n",
       "lm(formula = salary_in_usd ~ work_year, data = df)\n",
       "\n",
       "Residuals:\n",
       "    Min      1Q  Median      3Q     Max \n",
       "-137595  -43172   -3416   36584  358951 \n",
       "\n",
       "Coefficients:\n",
       "             Estimate Std. Error t value Pr(>|t|)    \n",
       "(Intercept) -41902560    2736988  -15.31   <2e-16 ***\n",
       "work_year       20789       1353   15.36   <2e-16 ***\n",
       "---\n",
       "Signif. codes:  0 '***' 0.001 '**' 0.01 '*' 0.05 '.' 0.1 ' ' 1\n",
       "\n",
       "Residual standard error: 61180 on 4764 degrees of freedom\n",
       "Multiple R-squared:  0.0472,\tAdjusted R-squared:  0.047 \n",
       "F-statistic:   236 on 1 and 4764 DF,  p-value: < 2.2e-16\n"
      ]
     },
     "metadata": {},
     "output_type": "display_data"
    }
   ],
   "source": [
    "summary(lm(salary_in_usd ~ work_year, data = df))\n"
   ]
  },
  {
   "attachments": {},
   "cell_type": "markdown",
   "metadata": {},
   "source": [
    "# Anderes\n"
   ]
  },
  {
   "cell_type": "code",
   "execution_count": 48,
   "metadata": {
    "vscode": {
     "languageId": "r"
    }
   },
   "outputs": [
    {
     "data": {
      "text/html": [
       "<table class=\"dataframe\">\n",
       "<caption>A tibble: 8 × 3</caption>\n",
       "<thead>\n",
       "\t<tr><th scope=col>experience_level</th><th scope=col>statistic</th><th scope=col>value</th></tr>\n",
       "\t<tr><th scope=col>&lt;chr&gt;</th><th scope=col>&lt;chr&gt;</th><th scope=col>&lt;dbl&gt;</th></tr>\n",
       "</thead>\n",
       "<tbody>\n",
       "\t<tr><td>EN</td><td>mean_salary  </td><td>194632.1</td></tr>\n",
       "\t<tr><td>EX</td><td>mean_salary  </td><td>239449.3</td></tr>\n",
       "\t<tr><td>MI</td><td>mean_salary  </td><td>226226.7</td></tr>\n",
       "\t<tr><td>SE</td><td>mean_salary  </td><td>169895.5</td></tr>\n",
       "\t<tr><td>EN</td><td>median_salary</td><td> 80500.0</td></tr>\n",
       "\t<tr><td>EX</td><td>median_salary</td><td>200000.0</td></tr>\n",
       "\t<tr><td>MI</td><td>median_salary</td><td>102500.0</td></tr>\n",
       "\t<tr><td>SE</td><td>median_salary</td><td>150000.0</td></tr>\n",
       "</tbody>\n",
       "</table>\n"
      ],
      "text/latex": [
       "A tibble: 8 × 3\n",
       "\\begin{tabular}{lll}\n",
       " experience\\_level & statistic & value\\\\\n",
       " <chr> & <chr> & <dbl>\\\\\n",
       "\\hline\n",
       "\t EN & mean\\_salary   & 194632.1\\\\\n",
       "\t EX & mean\\_salary   & 239449.3\\\\\n",
       "\t MI & mean\\_salary   & 226226.7\\\\\n",
       "\t SE & mean\\_salary   & 169895.5\\\\\n",
       "\t EN & median\\_salary &  80500.0\\\\\n",
       "\t EX & median\\_salary & 200000.0\\\\\n",
       "\t MI & median\\_salary & 102500.0\\\\\n",
       "\t SE & median\\_salary & 150000.0\\\\\n",
       "\\end{tabular}\n"
      ],
      "text/markdown": [
       "\n",
       "A tibble: 8 × 3\n",
       "\n",
       "| experience_level &lt;chr&gt; | statistic &lt;chr&gt; | value &lt;dbl&gt; |\n",
       "|---|---|---|\n",
       "| EN | mean_salary   | 194632.1 |\n",
       "| EX | mean_salary   | 239449.3 |\n",
       "| MI | mean_salary   | 226226.7 |\n",
       "| SE | mean_salary   | 169895.5 |\n",
       "| EN | median_salary |  80500.0 |\n",
       "| EX | median_salary | 200000.0 |\n",
       "| MI | median_salary | 102500.0 |\n",
       "| SE | median_salary | 150000.0 |\n",
       "\n"
      ],
      "text/plain": [
       "  experience_level statistic     value   \n",
       "1 EN               mean_salary   194632.1\n",
       "2 EX               mean_salary   239449.3\n",
       "3 MI               mean_salary   226226.7\n",
       "4 SE               mean_salary   169895.5\n",
       "5 EN               median_salary  80500.0\n",
       "6 EX               median_salary 200000.0\n",
       "7 MI               median_salary 102500.0\n",
       "8 SE               median_salary 150000.0"
      ]
     },
     "metadata": {},
     "output_type": "display_data"
    }
   ],
   "source": [
    "df_summary <- df %>%\n",
    "  group_by(experience_level) %>%\n",
    "  summarize(mean_salary = mean(salary), median_salary = median(salary)) %>%\n",
    "  gather(key = \"statistic\", value = \"value\", mean_salary, median_salary)\n",
    "df_summary\n"
   ]
  },
  {
   "cell_type": "code",
   "execution_count": 49,
   "metadata": {
    "vscode": {
     "languageId": "r"
    }
   },
   "outputs": [
    {
     "data": {
      "image/png": "[encoded data removed]",
      "text/plain": [
       "plot without title"
      ]
     },
     "metadata": {
      "image/png": {
       "height": 420,
       "width": 420
      }
     },
     "output_type": "display_data"
    }
   ],
   "source": [
    "ggplot(data = df_summary, aes(x = experience_level, y = value, fill = statistic)) +\n",
    "    geom_bar(stat = \"identity\", position = \"dodge\") +\n",
    "    theme_minimal() +\n",
    "    labs(y = \"Salary\", x = \"Experience Level\", title = \"Mean and Median Salary by Experience Level\") +\n",
    "    scale_fill_discrete(name = \"Statistic\", labels = c(\"Mean\", \"Median\"))\n"
   ]
  },
  {
   "cell_type": "code",
   "execution_count": 50,
   "metadata": {
    "vscode": {
     "languageId": "r"
    }
   },
   "outputs": [
    {
     "data": {
      "text/plain": [
       "\n",
       "\tPearson's Chi-squared test with simulated p-value (based on 2000\n",
       "\treplicates)\n",
       "\n",
       "data:  df$work_year and df$company_size\n",
       "X-squared = 1140.4, df = NA, p-value = 0.0004998\n"
      ]
     },
     "metadata": {},
     "output_type": "display_data"
    }
   ],
   "source": [
    "chisq.test(df$work_year, df$company_size, simulate.p.value = TRUE)\n"
   ]
  }
 ],
 "metadata": {
  "kernelspec": {
   "display_name": "R",
   "language": "R",
   "name": "ir"
  },
  "language_info": {
   "codemirror_mode": "r",
   "file_extension": ".r",
   "mimetype": "text/x-r-source",
   "name": "R",
   "pygments_lexer": "r",
   "version": "4.1.3"
  },
  "orig_nbformat": 4
 },
 "nbformat": 4,
 "nbformat_minor": 2
}
